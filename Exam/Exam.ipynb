{
 "cells": [
  {
   "cell_type": "markdown",
   "id": "29d6ed93",
   "metadata": {},
   "source": [
    "# Data set analysis"
   ]
  },
  {
   "cell_type": "code",
   "execution_count": 1,
   "id": "5b9bd598",
   "metadata": {},
   "outputs": [],
   "source": [
    "import pandas as pd\n",
    "import numpy as np\n",
    "import matplotlib.pyplot as plt"
   ]
  },
  {
   "cell_type": "code",
   "execution_count": 2,
   "id": "cd019a18",
   "metadata": {},
   "outputs": [
    {
     "data": {
      "text/html": [
       "<div>\n",
       "<style scoped>\n",
       "    .dataframe tbody tr th:only-of-type {\n",
       "        vertical-align: middle;\n",
       "    }\n",
       "\n",
       "    .dataframe tbody tr th {\n",
       "        vertical-align: top;\n",
       "    }\n",
       "\n",
       "    .dataframe thead th {\n",
       "        text-align: right;\n",
       "    }\n",
       "</style>\n",
       "<table border=\"1\" class=\"dataframe\">\n",
       "  <thead>\n",
       "    <tr style=\"text-align: right;\">\n",
       "      <th></th>\n",
       "      <th>Unnamed: 0</th>\n",
       "      <th>Gender</th>\n",
       "      <th>EthnicGroup</th>\n",
       "      <th>ParentEduc</th>\n",
       "      <th>LunchType</th>\n",
       "      <th>TestPrep</th>\n",
       "      <th>ParentMaritalStatus</th>\n",
       "      <th>PracticeSport</th>\n",
       "      <th>IsFirstChild</th>\n",
       "      <th>NrSiblings</th>\n",
       "      <th>TransportMeans</th>\n",
       "      <th>WklyStudyHours</th>\n",
       "      <th>MathScore</th>\n",
       "      <th>ReadingScore</th>\n",
       "      <th>WritingScore</th>\n",
       "    </tr>\n",
       "  </thead>\n",
       "  <tbody>\n",
       "    <tr>\n",
       "      <th>0</th>\n",
       "      <td>0</td>\n",
       "      <td>female</td>\n",
       "      <td>NaN</td>\n",
       "      <td>bachelor's degree</td>\n",
       "      <td>standard</td>\n",
       "      <td>none</td>\n",
       "      <td>married</td>\n",
       "      <td>regularly</td>\n",
       "      <td>yes</td>\n",
       "      <td>3.0</td>\n",
       "      <td>school_bus</td>\n",
       "      <td>&lt; 5</td>\n",
       "      <td>71</td>\n",
       "      <td>71</td>\n",
       "      <td>74</td>\n",
       "    </tr>\n",
       "    <tr>\n",
       "      <th>1</th>\n",
       "      <td>1</td>\n",
       "      <td>female</td>\n",
       "      <td>group C</td>\n",
       "      <td>some college</td>\n",
       "      <td>standard</td>\n",
       "      <td>NaN</td>\n",
       "      <td>married</td>\n",
       "      <td>sometimes</td>\n",
       "      <td>yes</td>\n",
       "      <td>0.0</td>\n",
       "      <td>NaN</td>\n",
       "      <td>5 - 10</td>\n",
       "      <td>69</td>\n",
       "      <td>90</td>\n",
       "      <td>88</td>\n",
       "    </tr>\n",
       "    <tr>\n",
       "      <th>2</th>\n",
       "      <td>2</td>\n",
       "      <td>female</td>\n",
       "      <td>group B</td>\n",
       "      <td>master's degree</td>\n",
       "      <td>standard</td>\n",
       "      <td>none</td>\n",
       "      <td>single</td>\n",
       "      <td>sometimes</td>\n",
       "      <td>yes</td>\n",
       "      <td>4.0</td>\n",
       "      <td>school_bus</td>\n",
       "      <td>&lt; 5</td>\n",
       "      <td>87</td>\n",
       "      <td>93</td>\n",
       "      <td>91</td>\n",
       "    </tr>\n",
       "    <tr>\n",
       "      <th>3</th>\n",
       "      <td>3</td>\n",
       "      <td>male</td>\n",
       "      <td>group A</td>\n",
       "      <td>associate's degree</td>\n",
       "      <td>free/reduced</td>\n",
       "      <td>none</td>\n",
       "      <td>married</td>\n",
       "      <td>never</td>\n",
       "      <td>no</td>\n",
       "      <td>1.0</td>\n",
       "      <td>NaN</td>\n",
       "      <td>5 - 10</td>\n",
       "      <td>45</td>\n",
       "      <td>56</td>\n",
       "      <td>42</td>\n",
       "    </tr>\n",
       "    <tr>\n",
       "      <th>4</th>\n",
       "      <td>4</td>\n",
       "      <td>male</td>\n",
       "      <td>group C</td>\n",
       "      <td>some college</td>\n",
       "      <td>standard</td>\n",
       "      <td>none</td>\n",
       "      <td>married</td>\n",
       "      <td>sometimes</td>\n",
       "      <td>yes</td>\n",
       "      <td>0.0</td>\n",
       "      <td>school_bus</td>\n",
       "      <td>5 - 10</td>\n",
       "      <td>76</td>\n",
       "      <td>78</td>\n",
       "      <td>75</td>\n",
       "    </tr>\n",
       "    <tr>\n",
       "      <th>...</th>\n",
       "      <td>...</td>\n",
       "      <td>...</td>\n",
       "      <td>...</td>\n",
       "      <td>...</td>\n",
       "      <td>...</td>\n",
       "      <td>...</td>\n",
       "      <td>...</td>\n",
       "      <td>...</td>\n",
       "      <td>...</td>\n",
       "      <td>...</td>\n",
       "      <td>...</td>\n",
       "      <td>...</td>\n",
       "      <td>...</td>\n",
       "      <td>...</td>\n",
       "      <td>...</td>\n",
       "    </tr>\n",
       "    <tr>\n",
       "      <th>30636</th>\n",
       "      <td>816</td>\n",
       "      <td>female</td>\n",
       "      <td>group D</td>\n",
       "      <td>high school</td>\n",
       "      <td>standard</td>\n",
       "      <td>none</td>\n",
       "      <td>single</td>\n",
       "      <td>sometimes</td>\n",
       "      <td>no</td>\n",
       "      <td>2.0</td>\n",
       "      <td>school_bus</td>\n",
       "      <td>5 - 10</td>\n",
       "      <td>59</td>\n",
       "      <td>61</td>\n",
       "      <td>65</td>\n",
       "    </tr>\n",
       "    <tr>\n",
       "      <th>30637</th>\n",
       "      <td>890</td>\n",
       "      <td>male</td>\n",
       "      <td>group E</td>\n",
       "      <td>high school</td>\n",
       "      <td>standard</td>\n",
       "      <td>none</td>\n",
       "      <td>single</td>\n",
       "      <td>regularly</td>\n",
       "      <td>no</td>\n",
       "      <td>1.0</td>\n",
       "      <td>private</td>\n",
       "      <td>5 - 10</td>\n",
       "      <td>58</td>\n",
       "      <td>53</td>\n",
       "      <td>51</td>\n",
       "    </tr>\n",
       "    <tr>\n",
       "      <th>30638</th>\n",
       "      <td>911</td>\n",
       "      <td>female</td>\n",
       "      <td>NaN</td>\n",
       "      <td>high school</td>\n",
       "      <td>free/reduced</td>\n",
       "      <td>completed</td>\n",
       "      <td>married</td>\n",
       "      <td>sometimes</td>\n",
       "      <td>no</td>\n",
       "      <td>1.0</td>\n",
       "      <td>private</td>\n",
       "      <td>5 - 10</td>\n",
       "      <td>61</td>\n",
       "      <td>70</td>\n",
       "      <td>67</td>\n",
       "    </tr>\n",
       "    <tr>\n",
       "      <th>30639</th>\n",
       "      <td>934</td>\n",
       "      <td>female</td>\n",
       "      <td>group D</td>\n",
       "      <td>associate's degree</td>\n",
       "      <td>standard</td>\n",
       "      <td>completed</td>\n",
       "      <td>married</td>\n",
       "      <td>regularly</td>\n",
       "      <td>no</td>\n",
       "      <td>3.0</td>\n",
       "      <td>school_bus</td>\n",
       "      <td>5 - 10</td>\n",
       "      <td>82</td>\n",
       "      <td>90</td>\n",
       "      <td>93</td>\n",
       "    </tr>\n",
       "    <tr>\n",
       "      <th>30640</th>\n",
       "      <td>960</td>\n",
       "      <td>male</td>\n",
       "      <td>group B</td>\n",
       "      <td>some college</td>\n",
       "      <td>standard</td>\n",
       "      <td>none</td>\n",
       "      <td>married</td>\n",
       "      <td>never</td>\n",
       "      <td>no</td>\n",
       "      <td>1.0</td>\n",
       "      <td>school_bus</td>\n",
       "      <td>5 - 10</td>\n",
       "      <td>64</td>\n",
       "      <td>60</td>\n",
       "      <td>58</td>\n",
       "    </tr>\n",
       "  </tbody>\n",
       "</table>\n",
       "<p>30641 rows × 15 columns</p>\n",
       "</div>"
      ],
      "text/plain": [
       "       Unnamed: 0  Gender EthnicGroup          ParentEduc     LunchType  \\\n",
       "0               0  female         NaN   bachelor's degree      standard   \n",
       "1               1  female     group C        some college      standard   \n",
       "2               2  female     group B     master's degree      standard   \n",
       "3               3    male     group A  associate's degree  free/reduced   \n",
       "4               4    male     group C        some college      standard   \n",
       "...           ...     ...         ...                 ...           ...   \n",
       "30636         816  female     group D         high school      standard   \n",
       "30637         890    male     group E         high school      standard   \n",
       "30638         911  female         NaN         high school  free/reduced   \n",
       "30639         934  female     group D  associate's degree      standard   \n",
       "30640         960    male     group B        some college      standard   \n",
       "\n",
       "        TestPrep ParentMaritalStatus PracticeSport IsFirstChild  NrSiblings  \\\n",
       "0           none             married     regularly          yes         3.0   \n",
       "1            NaN             married     sometimes          yes         0.0   \n",
       "2           none              single     sometimes          yes         4.0   \n",
       "3           none             married         never           no         1.0   \n",
       "4           none             married     sometimes          yes         0.0   \n",
       "...          ...                 ...           ...          ...         ...   \n",
       "30636       none              single     sometimes           no         2.0   \n",
       "30637       none              single     regularly           no         1.0   \n",
       "30638  completed             married     sometimes           no         1.0   \n",
       "30639  completed             married     regularly           no         3.0   \n",
       "30640       none             married         never           no         1.0   \n",
       "\n",
       "      TransportMeans WklyStudyHours  MathScore  ReadingScore  WritingScore  \n",
       "0         school_bus            < 5         71            71            74  \n",
       "1                NaN         5 - 10         69            90            88  \n",
       "2         school_bus            < 5         87            93            91  \n",
       "3                NaN         5 - 10         45            56            42  \n",
       "4         school_bus         5 - 10         76            78            75  \n",
       "...              ...            ...        ...           ...           ...  \n",
       "30636     school_bus         5 - 10         59            61            65  \n",
       "30637        private         5 - 10         58            53            51  \n",
       "30638        private         5 - 10         61            70            67  \n",
       "30639     school_bus         5 - 10         82            90            93  \n",
       "30640     school_bus         5 - 10         64            60            58  \n",
       "\n",
       "[30641 rows x 15 columns]"
      ]
     },
     "execution_count": 2,
     "metadata": {},
     "output_type": "execute_result"
    }
   ],
   "source": [
    "df = pd.read_csv('./input/Expanded_data_with_more_features.csv')\n",
    "df"
   ]
  },
  {
   "cell_type": "markdown",
   "id": "6eafbf5d",
   "metadata": {},
   "source": [
    "## Analyze the gender distribution among students"
   ]
  },
  {
   "cell_type": "code",
   "execution_count": 3,
   "id": "07dea1c2",
   "metadata": {},
   "outputs": [
    {
     "data": {
      "image/png": "[encoded data removed]",
      "text/plain": [
       "<Figure size 640x480 with 1 Axes>"
      ]
     },
     "metadata": {},
     "output_type": "display_data"
    }
   ],
   "source": [
    "males = df[df[\"Gender\"] == \"male\"]\n",
    "females = df[df[\"Gender\"] == \"female\"]\n",
    "\n",
    "plt.bar([\"Male\", \"Female\"], [len(males), len(females)])\n",
    "plt.xlabel(\"Gender\")\n",
    "plt.ylabel(\"Number of Students\")\n",
    "plt.title(\"Gender Distribution\")\n",
    "plt.show()"
   ]
  },
  {
   "cell_type": "markdown",
   "id": "91c9f7d8",
   "metadata": {},
   "source": [
    "### 1. How many male and female students are in the dataset?"
   ]
  },
  {
   "cell_type": "code",
   "execution_count": 4,
   "id": "d16ab63d",
   "metadata": {},
   "outputs": [
    {
     "name": "stdout",
     "output_type": "stream",
     "text": [
      "Male students: 15217\n",
      "Female students: 15424\n"
     ]
    }
   ],
   "source": [
    "print(\"Male students:\", len(males))\n",
    "print(\"Female students:\", len(females))"
   ]
  },
  {
   "cell_type": "markdown",
   "id": "f81154fc",
   "metadata": {},
   "source": [
    "### 2. What percentage of students are male in the dataset?"
   ]
  },
  {
   "cell_type": "code",
   "execution_count": 5,
   "id": "584f54ea",
   "metadata": {},
   "outputs": [
    {
     "name": "stdout",
     "output_type": "stream",
     "text": [
      "Male student percentage: 49.6622172905584\n"
     ]
    }
   ],
   "source": [
    "print(\"Male student percentage:\", len(males) / len(df) * 100)"
   ]
  },
  {
   "cell_type": "markdown",
   "id": "bcbd46d8",
   "metadata": {},
   "source": [
    "### 3. What percentage of students are female in the dataset?"
   ]
  },
  {
   "cell_type": "code",
   "execution_count": 6,
   "id": "918fde28",
   "metadata": {},
   "outputs": [
    {
     "name": "stdout",
     "output_type": "stream",
     "text": [
      "Female student percentage: 50.337782709441605\n"
     ]
    }
   ],
   "source": [
    "print(\"Female student percentage:\", len(females) / len(df) * 100)"
   ]
  },
  {
   "cell_type": "markdown",
   "id": "2060c258",
   "metadata": {},
   "source": [
    "## Explore the relationship between ethnicity and test scores"
   ]
  },
  {
   "cell_type": "code",
   "execution_count": 7,
   "id": "1518ce45",
   "metadata": {},
   "outputs": [
    {
     "data": {
      "image/png": "[encoded data removed]",
      "text/plain": [
       "<Figure size 640x480 with 1 Axes>"
      ]
     },
     "metadata": {},
     "output_type": "display_data"
    }
   ],
   "source": [
    "ethnic_group_means = df[[\"EthnicGroup\", \"MathScore\",\"ReadingScore\",\"WritingScore\"]].groupby(\"EthnicGroup\").mean()\n",
    "\n",
    "ethnic_group_means.plot(kind=\"bar\", y=[\"MathScore\", \"ReadingScore\", \"WritingScore\"], color=['r', 'g', 'b'])\n",
    "plt.xlabel(\"Ethnic Group\")\n",
    "plt.ylabel(\"Average Test Score\")\n",
    "plt.title(\"Ethnicity and test scores relationship\")\n",
    "plt.show()"
   ]
  },
  {
   "cell_type": "markdown",
   "id": "26d13605",
   "metadata": {},
   "source": [
    "### 4. Which ethnic group has the highest average score in math?"
   ]
  },
  {
   "cell_type": "code",
   "execution_count": 8,
   "id": "fac798dd",
   "metadata": {},
   "outputs": [
    {
     "name": "stdout",
     "output_type": "stream",
     "text": [
      "group E\n"
     ]
    }
   ],
   "source": [
    "print(df.groupby('EthnicGroup')['MathScore'].mean().idxmax())"
   ]
  },
  {
   "cell_type": "markdown",
   "id": "7fb1dbd2",
   "metadata": {},
   "source": [
    "### 5. Which ethnic group has the highest average score in reading?"
   ]
  },
  {
   "cell_type": "code",
   "execution_count": 9,
   "id": "d68a83ef",
   "metadata": {},
   "outputs": [
    {
     "name": "stdout",
     "output_type": "stream",
     "text": [
      "group E\n"
     ]
    }
   ],
   "source": [
    "print(df.groupby('EthnicGroup')['ReadingScore'].mean().idxmax())"
   ]
  },
  {
   "cell_type": "markdown",
   "id": "323521c3",
   "metadata": {},
   "source": [
    "### 6. Which ethnic group has the highest average score in writing?"
   ]
  },
  {
   "cell_type": "code",
   "execution_count": 10,
   "id": "29b1aef3",
   "metadata": {},
   "outputs": [
    {
     "name": "stdout",
     "output_type": "stream",
     "text": [
      "group E\n"
     ]
    }
   ],
   "source": [
    "print(df.groupby('EthnicGroup')['WritingScore'].mean().idxmax())"
   ]
  },
  {
   "cell_type": "markdown",
   "id": "5de89a94",
   "metadata": {},
   "source": [
    "## Investigate the impact of the test preparation course on test results"
   ]
  },
  {
   "cell_type": "code",
   "execution_count": 11,
   "id": "362d2457",
   "metadata": {},
   "outputs": [
    {
     "data": {
      "image/png": "[encoded data removed]",
      "text/plain": [
       "<Figure size 640x480 with 1 Axes>"
      ]
     },
     "metadata": {},
     "output_type": "display_data"
    }
   ],
   "source": [
    "test_prep_students = df[df[\"TestPrep\"] == \"completed\"]\n",
    "no_test_prep_students = df[df[\"TestPrep\"] == \"none\"]\n",
    "\n",
    "test_prep_labels = [\"Completed\", \"None\"]\n",
    "math_scores = [test_prep_students[\"MathScore\"].mean(), no_test_prep_students[\"MathScore\"].mean()]\n",
    "reading_scores = [test_prep_students[\"ReadingScore\"].mean(), no_test_prep_students[\"ReadingScore\"].mean()]\n",
    "writing_scores = [test_prep_students[\"WritingScore\"].mean(), no_test_prep_students[\"WritingScore\"].mean()]\n",
    "\n",
    "x = np.arange(len(test_prep_labels))\n",
    "width = 0.15\n",
    "\n",
    "fig, ax = plt.subplots()\n",
    "rects1 = ax.bar(x - width, math_scores, width, label=\"Math\", color='r')\n",
    "rects2 = ax.bar(x, reading_scores, width, label=\"Reading\", color='g')\n",
    "rects3 = ax.bar(x + width, writing_scores, width, label=\"Writing\", color='b')\n",
    "\n",
    "ax.set_ylabel(\"Average Test Score\")\n",
    "ax.set_title(\"Test Scores by Test Preparation\")\n",
    "ax.set_xticks(x)\n",
    "ax.set_xticklabels(test_prep_labels)\n",
    "ax.legend()\n",
    "\n",
    "fig.tight_layout()\n",
    "plt.show()"
   ]
  },
  {
   "cell_type": "markdown",
   "id": "0c2f35d9",
   "metadata": {},
   "source": [
    "### 7. What is the average math score for students who completed the test preparation course?"
   ]
  },
  {
   "cell_type": "code",
   "execution_count": 12,
   "id": "0f06eb6a",
   "metadata": {},
   "outputs": [
    {
     "name": "stdout",
     "output_type": "stream",
     "text": [
      "69.5466599698644\n"
     ]
    }
   ],
   "source": [
    "print(df[df['TestPrep'] == 'completed']['MathScore'].mean())"
   ]
  },
  {
   "cell_type": "markdown",
   "id": "391041e6",
   "metadata": {},
   "source": [
    "### 8. What is the average reading score for students who completed the test preparation course?"
   ]
  },
  {
   "cell_type": "code",
   "execution_count": 13,
   "id": "3fe6ba13",
   "metadata": {},
   "outputs": [
    {
     "name": "stdout",
     "output_type": "stream",
     "text": [
      "73.73299849321948\n"
     ]
    }
   ],
   "source": [
    "print(df[df['TestPrep'] == 'completed']['ReadingScore'].mean())"
   ]
  },
  {
   "cell_type": "markdown",
   "id": "dd91ccbc",
   "metadata": {},
   "source": [
    "### 9. What is the average writing score for students who completed the test preparation course?"
   ]
  },
  {
   "cell_type": "code",
   "execution_count": 14,
   "id": "1ba3bc90",
   "metadata": {},
   "outputs": [
    {
     "name": "stdout",
     "output_type": "stream",
     "text": [
      "74.70326469111\n"
     ]
    }
   ],
   "source": [
    "print(df[df['TestPrep'] == 'completed']['WritingScore'].mean())"
   ]
  },
  {
   "cell_type": "markdown",
   "id": "b74caa8b",
   "metadata": {},
   "source": [
    "## Analyze the distribution of parents by marital status among students"
   ]
  },
  {
   "cell_type": "code",
   "execution_count": 15,
   "id": "6718ccb6",
   "metadata": {},
   "outputs": [
    {
     "data": {
      "text/plain": [
       "Text(0.5, 1.0, 'Distribution of Parents by Marital Status')"
      ]
     },
     "execution_count": 15,
     "metadata": {},
     "output_type": "execute_result"
    },
    {
     "data": {
      "image/png": "[encoded data removed]",
      "text/plain": [
       "<Figure size 640x480 with 1 Axes>"
      ]
     },
     "metadata": {},
     "output_type": "display_data"
    }
   ],
   "source": [
    "married_parents_students = df[df[\"ParentMaritalStatus\"] == \"married\"]\n",
    "single_parents_students = df[df[\"ParentMaritalStatus\"] == \"single\"]\n",
    "widowed_parents_students = df[df[\"ParentMaritalStatus\"] == \"widowed\"]\n",
    "divorced_parents_students = df[df[\"ParentMaritalStatus\"] == \"divorced\"]\n",
    "\n",
    "plt.bar([\"Married Parents\", \"Single Parents\", \"Widowed Parents\", \"Divorced Parents\"], [len(married_parents_students), \n",
    "                                                                                       len(single_parents_students), \n",
    "                                                                                       len(widowed_parents_students), \n",
    "                                                                                       len(divorced_parents_students)])\n",
    "plt.xlabel(\"Parents Marital Status\")\n",
    "plt.ylabel(\"Number of Students\")\n",
    "plt.title(\"Distribution of Parents by Marital Status\")"
   ]
  },
  {
   "cell_type": "markdown",
   "id": "ae810dc4",
   "metadata": {},
   "source": [
    "### 10. How many students have married parents?"
   ]
  },
  {
   "cell_type": "code",
   "execution_count": 16,
   "id": "cbc0939c",
   "metadata": {},
   "outputs": [
    {
     "name": "stdout",
     "output_type": "stream",
     "text": [
      "16844\n"
     ]
    }
   ],
   "source": [
    "print(len(df[df['ParentMaritalStatus'] == 'married']))"
   ]
  },
  {
   "cell_type": "markdown",
   "id": "75156a63",
   "metadata": {},
   "source": [
    "### 11. How many students have single parents?"
   ]
  },
  {
   "cell_type": "code",
   "execution_count": 17,
   "id": "a868e7e3",
   "metadata": {},
   "outputs": [
    {
     "name": "stdout",
     "output_type": "stream",
     "text": [
      "7097\n"
     ]
    }
   ],
   "source": [
    "print(len(df[df['ParentMaritalStatus'] == 'single']))"
   ]
  },
  {
   "cell_type": "markdown",
   "id": "6ba73dfc",
   "metadata": {},
   "source": [
    "## Explore the connection between sports and test scores"
   ]
  },
  {
   "cell_type": "code",
   "execution_count": 18,
   "id": "a80e7240",
   "metadata": {},
   "outputs": [
    {
     "data": {
      "image/png": "[encoded data removed]",
      "text/plain": [
       "<Figure size 640x480 with 1 Axes>"
      ]
     },
     "metadata": {},
     "output_type": "display_data"
    }
   ],
   "source": [
    "sports_regularly_students = df[df[\"PracticeSport\"] == \"regularly\"]\n",
    "sports_never_students = df[df[\"PracticeSport\"] == \"never\"]\n",
    "sports_sometimes_students = df[df[\"PracticeSport\"] == \"sometimes\"]\n",
    "\n",
    "sports_labels = [\"Regularly\", \"Never\", \"Sometimes\"]\n",
    "math_scores = [sports_regularly_students[\"MathScore\"].mean(), \n",
    "               sports_never_students[\"MathScore\"].mean(), \n",
    "               sports_sometimes_students[\"MathScore\"].mean()]\n",
    "reading_scores = [sports_regularly_students[\"ReadingScore\"].mean(), \n",
    "                  sports_never_students[\"ReadingScore\"].mean(), \n",
    "                  sports_sometimes_students[\"ReadingScore\"].mean()]\n",
    "\n",
    "x = np.arange(len(sports_labels))\n",
    "width = 0.2\n",
    "\n",
    "fig, ax = plt.subplots()\n",
    "rects1 = ax.bar(x - width/2, math_scores, width, label=\"Math\", color='r')\n",
    "rects2 = ax.bar(x + width/2, reading_scores, width, label=\"Reading\", color='g')\n",
    "\n",
    "ax.set_ylabel(\"Average Test Score\")\n",
    "ax.set_title(\"Test Scores by Sports Practice\")\n",
    "ax.set_xticks(x)\n",
    "ax.set_xticklabels(sports_labels)\n",
    "ax.legend()\n",
    "\n",
    "fig.tight_layout()\n",
    "plt.show()"
   ]
  },
  {
   "cell_type": "markdown",
   "id": "e1d4036b",
   "metadata": {},
   "source": [
    "### 12. Do students who regularly participate in sports have higher average math scores than those who never participate in sports?"
   ]
  },
  {
   "cell_type": "code",
   "execution_count": 19,
   "id": "42463015",
   "metadata": {},
   "outputs": [
    {
     "name": "stdout",
     "output_type": "stream",
     "text": [
      "True\n"
     ]
    }
   ],
   "source": [
    "avg_math_sports = df.groupby('PracticeSport')['MathScore'].mean()\n",
    "print(avg_math_sports['regularly'] > avg_math_sports['never'])"
   ]
  },
  {
   "cell_type": "markdown",
   "id": "210ef127",
   "metadata": {},
   "source": [
    "### 13. Do students who regularly participate in sports have higher average reading scores than those who never participate in sports?"
   ]
  },
  {
   "cell_type": "code",
   "execution_count": 20,
   "id": "3eb5fdde",
   "metadata": {},
   "outputs": [
    {
     "name": "stdout",
     "output_type": "stream",
     "text": [
      "True\n"
     ]
    }
   ],
   "source": [
    "avg_math_sports = df.groupby('PracticeSport')['ReadingScore'].mean()\n",
    "print(avg_math_sports['regularly'] > avg_math_sports['never'])"
   ]
  },
  {
   "cell_type": "markdown",
   "id": "679e8618",
   "metadata": {},
   "source": [
    "## Analyze the distribution of transportation to school among students"
   ]
  },
  {
   "cell_type": "code",
   "execution_count": 21,
   "id": "83a13313",
   "metadata": {},
   "outputs": [
    {
     "data": {
      "image/png": "[encoded data removed]",
      "text/plain": [
       "<Figure size 640x480 with 1 Axes>"
      ]
     },
     "metadata": {},
     "output_type": "display_data"
    }
   ],
   "source": [
    "school_bus_students = df[df[\"TransportMeans\"] == \"school_bus\"]\n",
    "private_transport_students = df[df[\"TransportMeans\"] == \"private\"]\n",
    "other_transport = df[df[\"TransportMeans\"].isna()]\n",
    "\n",
    "plt.bar([\"School Bus\", \"Private\", \"Others\"], [len(school_bus_students), len(private_transport_students), len(other_transport)])\n",
    "plt.xlabel(\"Transportation\")\n",
    "plt.ylabel(\"Number of Students\")\n",
    "plt.title(\"Distribution of Transportation to School\")\n",
    "plt.show()"
   ]
  },
  {
   "cell_type": "markdown",
   "id": "08b5cad7",
   "metadata": {},
   "source": [
    "### 14. How many students use the school bus to get to school?"
   ]
  },
  {
   "cell_type": "code",
   "execution_count": 22,
   "id": "eb5adfb5",
   "metadata": {},
   "outputs": [
    {
     "name": "stdout",
     "output_type": "stream",
     "text": [
      "16145\n"
     ]
    }
   ],
   "source": [
    "print(len(df[df['TransportMeans'] == 'school_bus']))"
   ]
  },
  {
   "cell_type": "markdown",
   "id": "1d151419",
   "metadata": {},
   "source": [
    "### 15. How many students use private transportation to get to school?"
   ]
  },
  {
   "cell_type": "code",
   "execution_count": 23,
   "id": "b3f0788c",
   "metadata": {},
   "outputs": [
    {
     "name": "stdout",
     "output_type": "stream",
     "text": [
      "11362\n"
     ]
    }
   ],
   "source": [
    "print(len(df[df['TransportMeans'] == 'private']))"
   ]
  },
  {
   "cell_type": "markdown",
   "id": "5a3e4059",
   "metadata": {},
   "source": [
    "# Classification"
   ]
  },
  {
   "cell_type": "code",
   "execution_count": 24,
   "id": "938cc7f9",
   "metadata": {},
   "outputs": [],
   "source": [
    "df = df.dropna()\n",
    "data = df[[\"Gender\", \"EthnicGroup\", \"ParentEduc\", \"LunchType\", \"ParentMaritalStatus\", \"PracticeSport\", \"IsFirstChild\", \n",
    "              \"NrSiblings\", \"TransportMeans\", \"WklyStudyHours\", \"MathScore\", \"ReadingScore\", \"WritingScore\"]]\n",
    "\n",
    "target_numbers = {'none': 0, 'completed': 1}\n",
    "\n",
    "target = df[\"TestPrep\"].map(target_numbers)"
   ]
  },
  {
   "cell_type": "code",
   "execution_count": 25,
   "id": "40e024f2",
   "metadata": {},
   "outputs": [],
   "source": [
    "from sklearn.preprocessing import StandardScaler, OneHotEncoder\n",
    "from sklearn.compose import ColumnTransformer\n",
    "from sklearn.pipeline import Pipeline\n",
    "\n",
    "pipe_cat = Pipeline([('OHE', OneHotEncoder(drop='first', handle_unknown='ignore'))])\n",
    "pipe_num = Pipeline([('scale', StandardScaler())])\n",
    "\n",
    "categorical_vars = data.select_dtypes('object').columns.tolist()\n",
    "numerical_vars = data.select_dtypes('number').columns.tolist()\n",
    "\n",
    "full_pipeline = Pipeline([\n",
    "        ('preprocess', ColumnTransformer(transformers=[\n",
    "        ('numbers', pipe_num, numerical_vars),\n",
    "        ('categories', pipe_cat, categorical_vars) \n",
    "    ]))\n",
    "])"
   ]
  },
  {
   "cell_type": "code",
   "execution_count": 26,
   "id": "089ef7f8",
   "metadata": {},
   "outputs": [],
   "source": [
    "data_prepared = full_pipeline.fit_transform(data)"
   ]
  },
  {
   "cell_type": "code",
   "execution_count": 27,
   "id": "d01377cc",
   "metadata": {},
   "outputs": [],
   "source": [
    "from sklearn.model_selection import train_test_split\n",
    "\n",
    "X_train, X_test, y_train, y_test = train_test_split(data_prepared, target, test_size=0.2, random_state=42)"
   ]
  },
  {
   "cell_type": "markdown",
   "id": "42567e3a",
   "metadata": {},
   "source": [
    "### Try SGD classifier"
   ]
  },
  {
   "cell_type": "code",
   "execution_count": 28,
   "id": "b0fb31e7",
   "metadata": {},
   "outputs": [
    {
     "data": {
      "text/plain": [
       "SGDClassifier(random_state=42)"
      ]
     },
     "execution_count": 28,
     "metadata": {},
     "output_type": "execute_result"
    }
   ],
   "source": [
    "from sklearn.linear_model import SGDClassifier\n",
    "\n",
    "sgd_clf = SGDClassifier(max_iter=1000, tol=1e-3, random_state=42)\n",
    "sgd_clf.fit(X_train, y_train)"
   ]
  },
  {
   "cell_type": "code",
   "execution_count": 29,
   "id": "523598d8",
   "metadata": {},
   "outputs": [
    {
     "data": {
      "text/plain": [
       "array([0], dtype=int64)"
      ]
     },
     "execution_count": 29,
     "metadata": {},
     "output_type": "execute_result"
    }
   ],
   "source": [
    "sgd_clf.predict([X_train[8]])"
   ]
  },
  {
   "cell_type": "code",
   "execution_count": 30,
   "id": "ca6cacff",
   "metadata": {},
   "outputs": [
    {
     "data": {
      "text/plain": [
       "0"
      ]
     },
     "execution_count": 30,
     "metadata": {},
     "output_type": "execute_result"
    }
   ],
   "source": [
    "y_train.to_numpy()[8]"
   ]
  },
  {
   "cell_type": "code",
   "execution_count": 31,
   "id": "dbfd1ad9",
   "metadata": {},
   "outputs": [
    {
     "data": {
      "text/plain": [
       "array([0.74240062, 0.72890275, 0.75092575])"
      ]
     },
     "execution_count": 31,
     "metadata": {},
     "output_type": "execute_result"
    }
   ],
   "source": [
    "from sklearn.model_selection import cross_val_score\n",
    "cross_val_score(sgd_clf, X_train, y_train, cv=3, scoring=\"accuracy\")"
   ]
  },
  {
   "cell_type": "code",
   "execution_count": 32,
   "id": "99423e9e",
   "metadata": {},
   "outputs": [
    {
     "data": {
      "text/plain": [
       "array([[8815, 1251],\n",
       "       [2740, 2588]], dtype=int64)"
      ]
     },
     "execution_count": 32,
     "metadata": {},
     "output_type": "execute_result"
    }
   ],
   "source": [
    "from sklearn.model_selection import cross_val_predict\n",
    "from sklearn.metrics import confusion_matrix\n",
    "\n",
    "y_train_pred = cross_val_predict(sgd_clf, X_train, y_train, cv=3)\n",
    "conf_mx = confusion_matrix(y_train, y_train_pred)\n",
    "conf_mx"
   ]
  },
  {
   "cell_type": "code",
   "execution_count": 33,
   "id": "3ad1b31d",
   "metadata": {},
   "outputs": [
    {
     "data": {
      "image/png": "[encoded data removed]",
      "text/plain": [
       "<Figure size 480x480 with 1 Axes>"
      ]
     },
     "metadata": {},
     "output_type": "display_data"
    }
   ],
   "source": [
    "plt.matshow(conf_mx, cmap=plt.cm.gray)\n",
    "plt.show()"
   ]
  },
  {
   "cell_type": "code",
   "execution_count": 34,
   "id": "0cf255f6",
   "metadata": {},
   "outputs": [
    {
     "data": {
      "text/plain": [
       "0.6741338890336025"
      ]
     },
     "execution_count": 34,
     "metadata": {},
     "output_type": "execute_result"
    }
   ],
   "source": [
    "from sklearn.metrics import precision_score, recall_score\n",
    "\n",
    "precision_score(y_train, y_train_pred)"
   ]
  },
  {
   "cell_type": "code",
   "execution_count": 35,
   "id": "053e400b",
   "metadata": {},
   "outputs": [
    {
     "data": {
      "text/plain": [
       "0.48573573573573575"
      ]
     },
     "execution_count": 35,
     "metadata": {},
     "output_type": "execute_result"
    }
   ],
   "source": [
    "recall_score(y_train, y_train_pred)"
   ]
  },
  {
   "cell_type": "code",
   "execution_count": 36,
   "id": "fbb6e756",
   "metadata": {},
   "outputs": [
    {
     "data": {
      "text/plain": [
       "0.7342166796570537"
      ]
     },
     "execution_count": 36,
     "metadata": {},
     "output_type": "execute_result"
    }
   ],
   "source": [
    "sgd_clf.score(X_test, y_test)"
   ]
  },
  {
   "cell_type": "markdown",
   "id": "d793a25e",
   "metadata": {},
   "source": [
    "### Try KNeighbors classifier"
   ]
  },
  {
   "cell_type": "code",
   "execution_count": 37,
   "id": "0fc24ad9",
   "metadata": {},
   "outputs": [
    {
     "data": {
      "text/plain": [
       "KNeighborsClassifier(n_neighbors=4, weights='distance')"
      ]
     },
     "execution_count": 37,
     "metadata": {},
     "output_type": "execute_result"
    }
   ],
   "source": [
    "from sklearn.neighbors import KNeighborsClassifier\n",
    "knn_clf = KNeighborsClassifier(weights='distance', n_neighbors=4)\n",
    "knn_clf.fit(X_train, y_train)"
   ]
  },
  {
   "cell_type": "code",
   "execution_count": 38,
   "id": "2224e1f2",
   "metadata": {},
   "outputs": [],
   "source": [
    "y_knn_pred = knn_clf.predict(X_test)"
   ]
  },
  {
   "cell_type": "code",
   "execution_count": 39,
   "id": "0c22f40c",
   "metadata": {},
   "outputs": [
    {
     "data": {
      "text/plain": [
       "0.6261366588724344"
      ]
     },
     "execution_count": 39,
     "metadata": {},
     "output_type": "execute_result"
    }
   ],
   "source": [
    "from sklearn.metrics import accuracy_score\n",
    "accuracy_score(y_test, y_knn_pred)"
   ]
  }
 ],
 "metadata": {
  "kernelspec": {
   "display_name": "Python 3 (ipykernel)",
   "language": "python",
   "name": "python3"
  },
  "language_info": {
   "codemirror_mode": {
    "name": "ipython",
    "version": 3
   },
   "file_extension": ".py",
   "mimetype": "text/x-python",
   "name": "python",
   "nbconvert_exporter": "python",
   "pygments_lexer": "ipython3",
   "version": "3.9.13"
  }
 },
 "nbformat": 4,
 "nbformat_minor": 5
}
