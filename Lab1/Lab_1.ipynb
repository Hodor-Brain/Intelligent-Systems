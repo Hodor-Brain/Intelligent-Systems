{
 "cells": [
  {
   "cell_type": "markdown",
   "id": "88f650d6",
   "metadata": {},
   "source": [
    "# Гайана (Гаяна)\n",
    "___\n",
    "## Площа\n",
    "- **Всього:** *214 969 км² (84 в світі)*\n",
    "- **Внутр. води:** *8.4%*\n",
    "___\n",
    "### Населення\n",
    "- **Перепис населення 2021:** *808,726 (2022)*\n",
    "- **Густота населення:** *3.75/км²*\n",
    "___\n",
    "### Державний устрій\n",
    "- **Форма правління:** Парламентсько-президентська республіка\n",
    "- **Президент:** [Ірфаан Алі](https://uk.wikipedia.org/wiki/%D0%86%D1%80%D1%84%D0%B0%D0%B0%D0%BD_%D0%90%D0%BB%D1%96)"
   ]
  },
  {
   "cell_type": "markdown",
   "id": "9c1632f2",
   "metadata": {},
   "source": [
    "# Прапор Гайани"
   ]
  },
  {
   "cell_type": "code",
   "execution_count": 2,
   "id": "200ae4e2",
   "metadata": {},
   "outputs": [
    {
     "data": {
      "text/html": [
       "<svg viewBox=\"0 0 40 24\">\n",
       "    <rect width=\"40\" height=\"24\" fill=\"#009e49\"/>\n",
       "    <polygon points=\"0,24 41,12 0,0\" fill=\"#fff\"/>\n",
       "    <polygon points=\"0,23 38,12 0,1\" fill=\"#fdd116\"/>\n",
       "    <polygon points=\"0,24 20,12 0,0\" fill=\"#000000\"/>\n",
       "    <polygon points=\"0,22.5 17.5,12 0,1.5\" fill=\"#ce1127\"/>\n",
       "</svg>\n"
      ],
      "text/plain": [
       "<IPython.core.display.HTML object>"
      ]
     },
     "metadata": {},
     "output_type": "display_data"
    }
   ],
   "source": [
    "%%HTML\n",
    "<svg viewBox=\"0 0 40 24\">\n",
    "    <rect width=\"40\" height=\"24\" fill=\"#009e49\"/>\n",
    "    <polygon points=\"0,24 41,12 0,0\" fill=\"#fff\"/>\n",
    "    <polygon points=\"0,23 38,12 0,1\" fill=\"#fdd116\"/>\n",
    "    <polygon points=\"0,24 20,12 0,0\" fill=\"#000000\"/>\n",
    "    <polygon points=\"0,22.5 17.5,12 0,1.5\" fill=\"#ce1127\"/>\n",
    "</svg>"
   ]
  },
  {
   "cell_type": "markdown",
   "id": "75a74925",
   "metadata": {},
   "source": [
    "# Видатні особистості Гайани\n",
    "___\n",
    "| Ім'я | Діяльність | Зображення |\n",
    "|:--------:|:----------------------------------------------------------------------------------------------------|:----------:|\n",
    "| [**Летиція Райт**](https://uk.wikipedia.org/wiki/%D0%9B%D0%B5%D1%82%D0%B8%D1%86%D1%96%D1%8F_%D0%A0%D0%B0%D0%B9%D1%82)|Британська актриса гаянського походження, найвідоміша за роллю Шурі в кіновсесвіті Marvel у фільмах «Чорна Пантера» і «Месники: Війна нескінченності».|<img src=\"https://upload.wikimedia.org/wikipedia/commons/thumb/3/39/Actress_Letitia_Wright_-_Red_Carpet_Hollywood_%2852471829089%29.jpg/360px-Actress_Letitia_Wright_-_Red_Carpet_Hollywood_%2852471829089%29.jpg\" width=\"100px\">|\n",
    "| [**Джон Агард**](https://uk.wikipedia.org/wiki/%D0%94%D0%B6%D0%BE%D0%BD_%D0%90%D0%B3%D0%B0%D1%80%D0%B4)|Афро-гаянський драматург, поет і дитячий письменник, який зараз живе у Великій Британії та отримав золоту медаль королеви за поезію у 2012 році.|<img src=\"https://museumofcolour.org.uk/_nuxt/img/john-agard.253c5b5.jpg\" width=\"100px\">|\n",
    "| [**Ян Ернст Матцелігер**](https://en.wikipedia.org/wiki/Jan_Ernst_Matzeliger)|Винахідник, чия довговічна машина внесла значні зміни у виробництво взуття.|<img src=\"https://upload.wikimedia.org/wikipedia/commons/thumb/f/f8/Jan_ernst_matzeliger.gif/330px-Jan_ernst_matzeliger.gif\" width=\"100px\">|"
   ]
  },
  {
   "cell_type": "markdown",
   "id": "b1901313",
   "metadata": {},
   "source": [
    "# Пам'ятки Гайани\n",
    "___\n",
    "<div>\n",
    "    <ul>\n",
    "        <li>\n",
    "            <div>\n",
    "                <h3>Музей Рупунуні</h3>\n",
    "                <div style=\"margin:7px 0; padding: 5px; border: solid green; border-radius:7px\">\n",
    "                    <p>Рупунуні - це філія музею антропології Уолтера Рота в Джорджтауні, вона відома великою колекцією експонатів з історії та культури місцевих народів. Музей Рупунуні призначений для просування і підвищення інформованості населення про культуру корінних народів, а також є домом для індіанських артефактів і старовинних предметів, архівних матеріалів та інших інтелектуальних ресурсів.</p>\n",
    "                </div>\n",
    "                <img src=\"./images/Rupununi.jpg\" alt=\"Museum Rupununi\" style=\"width:80%\">\n",
    "            </div>\n",
    "        </li>\n",
    "        <li>\n",
    "            <div>\n",
    "                <h3>Собор Святого Георгія</h3>\n",
    "                <div style=\"margin:7px 0; padding: 5px; border: solid green; border-radius:7px\">\n",
    "                    <p>Собор святого Георгія, який знаходиться в столиці Гайани, місті Джорджтаун, є англіканським собором, який присвячений святому Георгію Переможцю. Він був освячений в 2003 році, та до свого освячення церква була визнана найвищою окремо стоячою дерев'яною церквою. Його висота становить 43,5 метра і Собор є національною пам'яткою Гайани.\n",
    "</p>\n",
    "                </div>\n",
    "                <img src=\"./images/St.GeorgesCathedral.jpg\" alt=\"St. Georges Cathedral\" style=\"width:80%\">\n",
    "            </div>\n",
    "        </li>\n",
    "        <li>\n",
    "            <div>\n",
    "                <h3>Солом'яна хижа Умана-Яна</h3>\n",
    "                <div style=\"margin:7px 0; padding: 5px; border: solid green; border-radius:7px\">\n",
    "                    <p>Умана-Яна - солом'яна хатина з конічним дахом, яка була побудована в 1972 році в архітектурному стилі індіанців. Розташована в місті Джорджтаун, на вулиці Water Street. Умана піднімається на 17 метрів, її дах зроблений з соломи і пальмового листя, а також ліан місцевої рослини Тур. У будівництві будівлі не використано жодного цвяха. З мови племені Вай-Вай назва хатини перекладається як: \"Місце зустрічі людей\".</p>\n",
    "                </div>\n",
    "                <img src=\"./images/UmanaYana.jpg\" alt=\"Umana Yana\" style=\"width:80%\">\n",
    "            </div>\n",
    "        </li>\n",
    "        <li>\n",
    "            <div>\n",
    "                <h3>Водоспад Каєтур</h3>\n",
    "                <div style=\"margin:7px 0; padding: 5px; border: solid green; border-radius:7px\">\n",
    "                    <p>Висота водоспаду - 226 метрів, ширина - 90-105 метрів. Водоспад Кайетур в 3 рази вищий за Ніагарський водоспад і в 2 рази вищий за водоспад Вікторія. Його особливістю вважається унікальне поєднання великої висоти та великого об'єму. Це один з найпотужніших водоспадів у світі.</p>\n",
    "                </div>\n",
    "                <img src=\"./images/Kaieteur.jpg\" alt=\"Kaieteur\" style=\"width:80%\">\n",
    "            </div>\n",
    "        </li>\n",
    "        <li>\n",
    "            <div>\n",
    "                <h3>Пляж Шелл</h3>\n",
    "                <div style=\"margin:7px 0; padding: 5px; border: solid green; border-radius:7px\">\n",
    "                    <p>Морське узбережжя Гайани значною мірою заболочене і вкрите мангровими заростями, тому пляжних зон тут небагато. Шелл-Біч - один з небагатьох пляжів в Гайані. Він простягнувся приблизно на 140 кілометрів. Це місце гніздування чотирьох з восьми видів морських черепах: зелених, Бісса (справжня каретта), шкірястих і оливкових (Рідлі). Якщо раніше черепах вбивали заради їхнього м'яса та яєць, то зараз вони є частиною екологічної неурядової програми.</p>\n",
    "                </div>\n",
    "                <img src=\"./images/ShellBeach.jpg\" alt=\"Shell Beach\" style=\"width:80%\">\n",
    "            </div>\n",
    "        </li>\n",
    "    </ul>\n",
    "</div>"
   ]
  },
  {
   "cell_type": "markdown",
   "id": "b991a7ee",
   "metadata": {},
   "source": [
    "# Реалізація алгоритму"
   ]
  },
  {
   "cell_type": "code",
   "execution_count": 42,
   "id": "b3077f5b",
   "metadata": {},
   "outputs": [],
   "source": [
    "def task_3():\n",
    "    input_list = input().split(\" \")\n",
    "    try:\n",
    "        elements = []\n",
    "        for i in range(len(input_list)):\n",
    "            elements.append(int(input_list[i]))\n",
    "        elements.sort()\n",
    "        if len(elements) % 2 == 0:\n",
    "            return f\"({elements[int(len(elements)/2) - 1]}, {elements[int(len(elements)/2)]}) - це середина відсортованого списку\"\n",
    "        else:\n",
    "            return f\"{elements[int(len(elements)/2)]} - це середина відсортованого списку\"\n",
    "        \n",
    "    except ValueError:\n",
    "        return \"Помилка. У списку присутня змінна не цілочисельного типу.\""
   ]
  },
  {
   "cell_type": "code",
   "execution_count": 43,
   "id": "52c8f365",
   "metadata": {},
   "outputs": [
    {
     "name": "stdout",
     "output_type": "stream",
     "text": [
      "8 3 5 2 9 1 -2\n"
     ]
    },
    {
     "data": {
      "text/plain": [
       "'3 - це середина відсортованого списку'"
      ]
     },
     "execution_count": 43,
     "metadata": {},
     "output_type": "execute_result"
    }
   ],
   "source": [
    "task_3()"
   ]
  },
  {
   "cell_type": "code",
   "execution_count": 44,
   "id": "d7863dce",
   "metadata": {},
   "outputs": [
    {
     "name": "stdout",
     "output_type": "stream",
     "text": [
      "-24 56 34 3 9 25 109 -17\n"
     ]
    },
    {
     "data": {
      "text/plain": [
       "'(9, 25) - це середина відсортованого списку'"
      ]
     },
     "execution_count": 44,
     "metadata": {},
     "output_type": "execute_result"
    }
   ],
   "source": [
    "task_3()"
   ]
  },
  {
   "cell_type": "code",
   "execution_count": 45,
   "id": "dfe47bb8",
   "metadata": {},
   "outputs": [
    {
     "name": "stdout",
     "output_type": "stream",
     "text": [
      "6 12 5 213 str 64\n"
     ]
    },
    {
     "data": {
      "text/plain": [
       "'Помилка. У списку присутня змінна не цілочисельного типу.'"
      ]
     },
     "execution_count": 45,
     "metadata": {},
     "output_type": "execute_result"
    }
   ],
   "source": [
    "task_3()"
   ]
  },
  {
   "cell_type": "code",
   "execution_count": null,
   "id": "fab54e57",
   "metadata": {},
   "outputs": [],
   "source": []
  }
 ],
 "metadata": {
  "kernelspec": {
   "display_name": "Python 3 (ipykernel)",
   "language": "python",
   "name": "python3"
  },
  "language_info": {
   "codemirror_mode": {
    "name": "ipython",
    "version": 3
   },
   "file_extension": ".py",
   "mimetype": "text/x-python",
   "name": "python",
   "nbconvert_exporter": "python",
   "pygments_lexer": "ipython3",
   "version": "3.9.13"
  }
 },
 "nbformat": 4,
 "nbformat_minor": 5
}
