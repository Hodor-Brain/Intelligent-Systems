{
 "cells": [
  {
   "cell_type": "markdown",
   "id": "95d91f07",
   "metadata": {},
   "source": [
    "## Task 1\n",
    "### Complete a set of exercises. Do all the tasks in 2 ways, using:\n",
    "* universal functions of the NumPy library\n",
    "* iterative constructions (cycles, lists inclusions etc.)"
   ]
  },
  {
   "cell_type": "code",
   "execution_count": 2,
   "id": "f86a135e",
   "metadata": {},
   "outputs": [],
   "source": [
    "import math\n",
    "import random\n",
    "import numpy as np"
   ]
  },
  {
   "cell_type": "markdown",
   "id": "2854b5a3",
   "metadata": {},
   "source": [
    "#### №1. The number *n* is entered. Print an array of size *n×n*, in which with numbers from 1 to *n* diagonally, and all other numbers are 0."
   ]
  },
  {
   "cell_type": "markdown",
   "id": "118a70de",
   "metadata": {},
   "source": [
    "*Numpy version:*"
   ]
  },
  {
   "cell_type": "code",
   "execution_count": 18,
   "id": "f58ac2e5",
   "metadata": {},
   "outputs": [
    {
     "name": "stdout",
     "output_type": "stream",
     "text": [
      "37.5 µs ± 13.9 µs per loop (mean ± std. dev. of 10 runs, 100 loops each)\n"
     ]
    }
   ],
   "source": [
    "%%timeit -n 100 -r 10\n",
    "\n",
    "def task_1(n):\n",
    "    matrix = np.zeros((n, n))\n",
    "    np.fill_diagonal(matrix, np.arange(1, n+1))\n",
    "    return matrix\n",
    "    \n",
    "    \n",
    "task_1(100)"
   ]
  },
  {
   "cell_type": "markdown",
   "id": "65d5db25",
   "metadata": {},
   "source": [
    "*Iterative version:*"
   ]
  },
  {
   "cell_type": "code",
   "execution_count": 22,
   "id": "b56aa6c0",
   "metadata": {},
   "outputs": [
    {
     "name": "stdout",
     "output_type": "stream",
     "text": [
      "1.24 ms ± 532 µs per loop (mean ± std. dev. of 10 runs, 100 loops each)\n"
     ]
    }
   ],
   "source": [
    "%%timeit -n 100 -r 10\n",
    "\n",
    "def task_1(n):\n",
    "    matrix = []\n",
    "    for i in range(n):\n",
    "        list = []\n",
    "        for j in range(n):\n",
    "            list.append(i + 1 if i == j else 0)\n",
    "        matrix.append(list)\n",
    "    return matrix\n",
    "    \n",
    "    \n",
    "task_1(100)"
   ]
  },
  {
   "cell_type": "markdown",
   "id": "89dbe6a6",
   "metadata": {},
   "source": [
    "#### №3. You are given 4 numbers *n*, *m*, *r*, *c*. Print an array of size *n×m*, in which each row with number *r* and each column with number *c* have 0s, and all other elements are equal to 1."
   ]
  },
  {
   "cell_type": "markdown",
   "id": "c03e2a3a",
   "metadata": {},
   "source": [
    "*Numpy version:*"
   ]
  },
  {
   "cell_type": "code",
   "execution_count": 43,
   "id": "7f7657e8",
   "metadata": {},
   "outputs": [
    {
     "name": "stdout",
     "output_type": "stream",
     "text": [
      "14.9 µs ± 3.07 µs per loop (mean ± std. dev. of 10 runs, 100 loops each)\n"
     ]
    }
   ],
   "source": [
    "%%timeit -n 100 -r 10\n",
    "\n",
    "def task_3(n, m, r, c):\n",
    "    matrix = np.ones((n, m), dtype=int)\n",
    "    matrix[::r, :] = 0\n",
    "    matrix[:, ::c] = 0\n",
    "    return matrix\n",
    "\n",
    "task_3(6, 7, 2, 3)"
   ]
  },
  {
   "cell_type": "markdown",
   "id": "996af81d",
   "metadata": {},
   "source": [
    "*Iterative version:*"
   ]
  },
  {
   "cell_type": "code",
   "execution_count": 21,
   "id": "70153a0e",
   "metadata": {},
   "outputs": [
    {
     "name": "stdout",
     "output_type": "stream",
     "text": [
      "45.6 µs ± 13.7 µs per loop (mean ± std. dev. of 10 runs, 100 loops each)\n"
     ]
    }
   ],
   "source": [
    "%%timeit -n 100 -r 10\n",
    "\n",
    "def task_3(n, m, r, c):\n",
    "    matrix = []\n",
    "    for i in range(n):\n",
    "        list_ = []\n",
    "        for j in range(m):\n",
    "            list_.append(0 if i % r == 0 or j % c == 0 else 1)\n",
    "        matrix.append(list_)\n",
    "    return matrix\n",
    "\n",
    "task_3(6, 7, 2, 3)"
   ]
  },
  {
   "cell_type": "markdown",
   "id": "d28a5478",
   "metadata": {},
   "source": [
    "#### №6. Replace all non-zero elements in array to -1."
   ]
  },
  {
   "cell_type": "markdown",
   "id": "fa5ac743",
   "metadata": {},
   "source": [
    "*Numpy version:*"
   ]
  },
  {
   "cell_type": "code",
   "execution_count": 62,
   "id": "690878bc",
   "metadata": {},
   "outputs": [
    {
     "name": "stdout",
     "output_type": "stream",
     "text": [
      "35.6 µs ± 7.9 µs per loop (mean ± std. dev. of 10 runs, 100 loops each)\n"
     ]
    }
   ],
   "source": [
    "%%timeit -n 100 -r 10\n",
    "\n",
    "def task_6(input_array):\n",
    "    arr = np.array(input_array)\n",
    "    arr[arr != 0] = -1\n",
    "    return arr\n",
    "    \n",
    "task_6([-5, -10, 48, 12, 105, -5, 0, 48, 12, 105, -5, -10, 48, 12, 105, -5, -10, 48, 0, 105, -5, -10, 48, 12, 105, -5, -10, 48, 12, 105, -5, -10, 0, 12, 105, -5, -10, 48, 12, 105, 0, 0, 48, 12, 105, -5, -10, 48, 0, 105])"
   ]
  },
  {
   "cell_type": "markdown",
   "id": "681f943f",
   "metadata": {},
   "source": [
    "*Iterative version:*"
   ]
  },
  {
   "cell_type": "code",
   "execution_count": 60,
   "id": "1d6f6f3d",
   "metadata": {},
   "outputs": [
    {
     "name": "stdout",
     "output_type": "stream",
     "text": [
      "19.2 µs ± 4.13 µs per loop (mean ± std. dev. of 10 runs, 100 loops each)\n"
     ]
    }
   ],
   "source": [
    "%%timeit -n 100 -r 10\n",
    "\n",
    "def task_6(input_array):\n",
    "    for i in range(len(input_array)):\n",
    "        if input_array[i] != 0:\n",
    "            input_array[i] = -1\n",
    "    return input_array\n",
    "    \n",
    "task_6([-5, -10, 48, 12, 105, -5, 0, 48, 12, 105, -5, -10, 48, 12, 105, -5, -10, 48, 0, 105, -5, -10, 48, 12, 105, -5, -10, 48, 12, 105, -5, -10, 0, 12, 105, -5, -10, 48, 12, 105, 0, 0, 48, 12, 105, -5, -10, 48, 0, 105])"
   ]
  },
  {
   "cell_type": "markdown",
   "id": "95996a41",
   "metadata": {},
   "source": [
    "#### №7. Replace all zero elements in array to -1."
   ]
  },
  {
   "cell_type": "markdown",
   "id": "cb67fe25",
   "metadata": {},
   "source": [
    "*Numpy version:*"
   ]
  },
  {
   "cell_type": "code",
   "execution_count": 77,
   "id": "dde9c10e",
   "metadata": {},
   "outputs": [
    {
     "name": "stdout",
     "output_type": "stream",
     "text": [
      "35.2 µs ± 10.5 µs per loop (mean ± std. dev. of 10 runs, 100 loops each)\n"
     ]
    }
   ],
   "source": [
    "%%timeit -n 100 -r 10\n",
    "\n",
    "def task_7(input_array):\n",
    "    arr = np.array(input_array)\n",
    "    arr[arr == 0] = -1\n",
    "    return arr\n",
    "    \n",
    "task_7([0, 0, 0, 0, 0, 0, 0, 0, 5, 0, 0, 0, 0, 0, 0, 0, 0, 5, 5, 0, 0, 0, 0, 0, 5, 0, 0, 0, 0, 0, 0, 0, 0, 5, 0, 0, 0, 0, 0, 0, 0, 0, 0, 0, 0, 0, 0, 0, 0, 0])"
   ]
  },
  {
   "cell_type": "markdown",
   "id": "0c9e51ef",
   "metadata": {},
   "source": [
    "*Iterative version:*"
   ]
  },
  {
   "cell_type": "code",
   "execution_count": 75,
   "id": "c0b69211",
   "metadata": {},
   "outputs": [
    {
     "name": "stdout",
     "output_type": "stream",
     "text": [
      "23.6 µs ± 5.46 µs per loop (mean ± std. dev. of 10 runs, 100 loops each)\n"
     ]
    }
   ],
   "source": [
    "%%timeit -n 100 -r 10\n",
    "\n",
    "def task_7(input_array):\n",
    "    for i in range(len(input_array)):\n",
    "        if input_array[i] == 0:\n",
    "            input_array[i] = -1\n",
    "    return input_array\n",
    "    \n",
    "task_7([0, 0, 0, 0, 0, 0, 0, 0, 5, 0, 0, 0, 0, 0, 0, 0, 0, 5, 5, 0, 0, 0, 0, 0, 5, 0, 0, 0, 0, 0, 0, 0, 0, 5, 0, 0, 0, 0, 0, 0, 0, 0, 0, 0, 0, 0, 0, 0, 0, 0])"
   ]
  },
  {
   "cell_type": "markdown",
   "id": "2d09b756",
   "metadata": {},
   "source": [
    "#### №8. Count the number of zero and non-zero elements in the array."
   ]
  },
  {
   "cell_type": "markdown",
   "id": "7a7225ea",
   "metadata": {},
   "source": [
    "*Numpy version:*"
   ]
  },
  {
   "cell_type": "code",
   "execution_count": 4,
   "id": "58dba9c2",
   "metadata": {},
   "outputs": [
    {
     "name": "stdout",
     "output_type": "stream",
     "text": [
      "37.8 µs ± 8.36 µs per loop (mean ± std. dev. of 10 runs, 100 loops each)\n"
     ]
    }
   ],
   "source": [
    "%%timeit -n 100 -r 10\n",
    "\n",
    "def task_8(input_array):\n",
    "    arr = np.array(input_array)\n",
    "    zeros = len(arr[arr == 0])\n",
    "    return zeros, len(arr) - zeros\n",
    "\n",
    "task_8([0, 0, 0, 0, 0, 0, 0, 0, 5, 0, 0, 0, 0, 0, 0, 0, 0, 5, 5, 0, 0, 0, 0, 0, 5, 0, 0, 0, 0, 0, 0, 0, 0, 5, 0, 0, 0, 0, 0, 0, 0, 0, 0, 0, 0, 0, 0, 0, 0, 0])"
   ]
  },
  {
   "cell_type": "markdown",
   "id": "0c3d5378",
   "metadata": {},
   "source": [
    "*Iterative version:*"
   ]
  },
  {
   "cell_type": "code",
   "execution_count": 6,
   "id": "96d57aee",
   "metadata": {},
   "outputs": [
    {
     "name": "stdout",
     "output_type": "stream",
     "text": [
      "24.8 µs ± 11.8 µs per loop (mean ± std. dev. of 10 runs, 100 loops each)\n"
     ]
    }
   ],
   "source": [
    "%%timeit -n 100 -r 10\n",
    "\n",
    "def task_8(input_array):\n",
    "    zeros = 0\n",
    "    for i in range(len(input_array)):\n",
    "        if input_array[i] == 0:\n",
    "            zeros += 1\n",
    "    return zeros, len(input_array) - zeros\n",
    "\n",
    "task_8([0, 0, 0, 0, 0, 0, 0, 0, 5, 0, 0, 0, 0, 0, 0, 0, 0, 5, 5, 0, 0, 0, 0, 0, 5, 0, 0, 0, 0, 0, 0, 0, 0, 5, 0, 0, 0, 0, 0, 0, 0, 0, 0, 0, 0, 0, 0, 0, 0, 0])"
   ]
  },
  {
   "cell_type": "markdown",
   "id": "92c47ccb",
   "metadata": {},
   "source": [
    "#### №11. Create an array of ones of size *n×n* and add to it a \"frame\" formed from zeros."
   ]
  },
  {
   "cell_type": "markdown",
   "id": "b069c32c",
   "metadata": {},
   "source": [
    "*Numpy version:*"
   ]
  },
  {
   "cell_type": "code",
   "execution_count": 27,
   "id": "6ba3f4f8",
   "metadata": {},
   "outputs": [
    {
     "name": "stdout",
     "output_type": "stream",
     "text": [
      "21.5 µs ± 4.98 µs per loop (mean ± std. dev. of 10 runs, 100 loops each)\n"
     ]
    }
   ],
   "source": [
    "%%timeit -n 100 -r 10\n",
    "\n",
    "def task_11(n):\n",
    "    matrix = np.ones((n, n), dtype=int)\n",
    "    matrix[::(n-1), :] = 0\n",
    "    matrix[:, ::(n-1)] = 0\n",
    "    return matrix\n",
    "\n",
    "task_11(10)"
   ]
  },
  {
   "cell_type": "markdown",
   "id": "a033e35c",
   "metadata": {},
   "source": [
    "*Iterative version:*"
   ]
  },
  {
   "cell_type": "code",
   "execution_count": 26,
   "id": "806da45e",
   "metadata": {},
   "outputs": [
    {
     "name": "stdout",
     "output_type": "stream",
     "text": [
      "120 µs ± 31.6 µs per loop (mean ± std. dev. of 10 runs, 100 loops each)\n"
     ]
    }
   ],
   "source": [
    "%%timeit -n 100 -r 10\n",
    "\n",
    "def task_11(n):\n",
    "    matrix = []\n",
    "    for i in range(n):\n",
    "        list_ = []\n",
    "        for j in range(n):\n",
    "            list_.append(0 if i == 0 or i == n-1 or j == 0 or j == n-1 else 1)\n",
    "        matrix.append(list_)\n",
    "    return matrix\n",
    "\n",
    "task_11(10)"
   ]
  },
  {
   "cell_type": "markdown",
   "id": "69ad9339",
   "metadata": {},
   "source": [
    "#### №16. Fill the vector with values from 0 to *n*. Replace all values greater than *n/4* and less than *3n/4* with zeros."
   ]
  },
  {
   "cell_type": "markdown",
   "id": "0ffcdce8",
   "metadata": {},
   "source": [
    "*Numpy version:*"
   ]
  },
  {
   "cell_type": "code",
   "execution_count": 50,
   "id": "8c25001b",
   "metadata": {},
   "outputs": [
    {
     "name": "stdout",
     "output_type": "stream",
     "text": [
      "39.6 µs ± 16.9 µs per loop (mean ± std. dev. of 10 runs, 100 loops each)\n"
     ]
    }
   ],
   "source": [
    "%%timeit -n 100 -r 10\n",
    "\n",
    "def task_16(n):\n",
    "    array = np.arange(n+1)\n",
    "    array[(array > n/4) & (array < 3*n/4)] = 0\n",
    "    return array\n",
    "\n",
    "task_16(10)"
   ]
  },
  {
   "cell_type": "markdown",
   "id": "99bc737f",
   "metadata": {},
   "source": [
    "*Iterative version:*"
   ]
  },
  {
   "cell_type": "code",
   "execution_count": 47,
   "id": "80eaa7b6",
   "metadata": {},
   "outputs": [
    {
     "name": "stdout",
     "output_type": "stream",
     "text": [
      "21.3 µs ± 8.87 µs per loop (mean ± std. dev. of 10 runs, 100 loops each)\n"
     ]
    }
   ],
   "source": [
    "%%timeit -n 100 -r 10\n",
    "\n",
    "def task_16(n):\n",
    "    array = []\n",
    "    for i in range(n + 1):\n",
    "        array.append(i)\n",
    "    for i in range(n + 1):\n",
    "        array[i] = 0 if (array[i] > n/4) and (array[i] < 3*n/4) else array[i]\n",
    "    return array\n",
    "\n",
    "task_16(10)"
   ]
  },
  {
   "cell_type": "markdown",
   "id": "72f690cc",
   "metadata": {},
   "source": [
    "#### №18. Generate a vector of n random numbers in the range from 0 to 99. Determine the number of unique numbers in the sequence."
   ]
  },
  {
   "cell_type": "markdown",
   "id": "13f0bb68",
   "metadata": {},
   "source": [
    "*Numpy version:*"
   ]
  },
  {
   "cell_type": "code",
   "execution_count": 74,
   "id": "dfabf6d5",
   "metadata": {},
   "outputs": [
    {
     "name": "stdout",
     "output_type": "stream",
     "text": [
      "67.7 µs ± 22.9 µs per loop (mean ± std. dev. of 10 runs, 100 loops each)\n"
     ]
    }
   ],
   "source": [
    "%%timeit -n 100 -r 10\n",
    "\n",
    "def task_18(n):\n",
    "    array = np.random.randint(0, 100, n)\n",
    "    return len(np.unique(array))\n",
    "\n",
    "task_18(100)"
   ]
  },
  {
   "cell_type": "markdown",
   "id": "faa9b86e",
   "metadata": {},
   "source": [
    "*Iterative version:*"
   ]
  },
  {
   "cell_type": "code",
   "execution_count": 73,
   "id": "1e2a9975",
   "metadata": {},
   "outputs": [
    {
     "name": "stdout",
     "output_type": "stream",
     "text": [
      "104 µs ± 14.5 µs per loop (mean ± std. dev. of 10 runs, 100 loops each)\n"
     ]
    }
   ],
   "source": [
    "%%timeit -n 100 -r 10\n",
    "\n",
    "def task_18(n):\n",
    "    array = []\n",
    "    for i in range(n):\n",
    "        array.append(random.randint(0, 100))\n",
    "    list_set = set(array)\n",
    "    return len(list_set)\n",
    "\n",
    "task_18(100)"
   ]
  },
  {
   "cell_type": "markdown",
   "id": "dda3591f",
   "metadata": {},
   "source": [
    "#### №19. Generate a vector of *n* elements evenly spaced on the interval *(0,1)* - that is, both ends of the interval are not included. Print the value up to 3 digits after the decimal point."
   ]
  },
  {
   "cell_type": "markdown",
   "id": "5ef87cde",
   "metadata": {},
   "source": [
    "*Numpy version:*"
   ]
  },
  {
   "cell_type": "code",
   "execution_count": 89,
   "id": "9b610198",
   "metadata": {},
   "outputs": [
    {
     "name": "stdout",
     "output_type": "stream",
     "text": [
      "30.7 µs ± 8.01 µs per loop (mean ± std. dev. of 10 runs, 100 loops each)\n"
     ]
    }
   ],
   "source": [
    "%%timeit -n 100 -r 10\n",
    "\n",
    "def task_19(n):\n",
    "    array = np.random.uniform(10**-5, 1, n)\n",
    "    return np.around(array, 3)\n",
    "\n",
    "task_19(10)"
   ]
  },
  {
   "cell_type": "markdown",
   "id": "86a00654",
   "metadata": {},
   "source": [
    "*Iterative version:*"
   ]
  },
  {
   "cell_type": "code",
   "execution_count": 90,
   "id": "618d9ffc",
   "metadata": {},
   "outputs": [
    {
     "name": "stdout",
     "output_type": "stream",
     "text": [
      "21 µs ± 2.41 µs per loop (mean ± std. dev. of 10 runs, 100 loops each)\n"
     ]
    }
   ],
   "source": [
    "%%timeit -n 100 -r 10\n",
    "\n",
    "def task_19(n):\n",
    "    array = []\n",
    "    for i in range(n):\n",
    "        array.append(round(random.uniform(10**-5, 1 - 10**-5), 3))\n",
    "    return array\n",
    "\n",
    "task_19(10)"
   ]
  },
  {
   "cell_type": "markdown",
   "id": "dff2ea27",
   "metadata": {},
   "source": [
    "## Task 2\n",
    "### Solve a system of algebraic equations using Cramer's formulas\n",
    "$$\n",
    "\\begin{cases}\n",
    "x_1 + 2x_2 + 3x_3 + 4x_4 = 5 \\\\\n",
    "2x_1 + x_2 + 2x_3 + 3x_4 = 1 \\\\\n",
    "3x_1 + 2x_2 + x_3 + 2x_4 = 1 \\\\\n",
    "4x_1 + 3x_2 + 2x_3 + x_4 = -5\n",
    "\\end{cases}\n",
    "$$\n",
    "### and perform a check using:\n",
    "* matrix multiplication\n",
    "* inverse matrix\n",
    "* `numpy.linalg.solve()` function"
   ]
  },
  {
   "cell_type": "code",
   "execution_count": 73,
   "id": "2ed5f0b8",
   "metadata": {},
   "outputs": [],
   "source": [
    "left = np.array([\n",
    "    [1, 2, 3, 4],\n",
    "    [2, 1, 2, 3],\n",
    "    [3, 2, 1, 2],\n",
    "    [4, 3, 2, 1]\n",
    "])\n",
    "\n",
    "right = np.array([5, 1, 1, -5])\n",
    "\n",
    "\n",
    "def cramers_solve(left, right):\n",
    "    length = len(right)\n",
    "    determinant = np.linalg.det(left)\n",
    "    solution = np.zeros(length)\n",
    "    \n",
    "    if np.allclose(determinant, 0):\n",
    "        print(\"Determinant is zero, there's no solution of given equation.\")\n",
    "        return solution\n",
    "    \n",
    "    for i in range(length):\n",
    "        modified_left = np.copy(left)\n",
    "        modified_left[:, i] = np.copy(right)\n",
    "        solution[i] = np.linalg.det(modified_left) / determinant\n",
    "    \n",
    "    return solution"
   ]
  },
  {
   "cell_type": "code",
   "execution_count": 74,
   "id": "173a78b1",
   "metadata": {},
   "outputs": [
    {
     "name": "stdout",
     "output_type": "stream",
     "text": [
      "Result of Cramer's method: [-2.  2. -3.  3.]\n",
      "Result of using numpy.linalg.solve(): [-2.  2. -3.  3.]\n",
      "Check results: True\n",
      "\n",
      "Check using matrix multiplication: True\n",
      "Check using inverse matrix: True\n"
     ]
    }
   ],
   "source": [
    "cramer_result = cramers_solve(left, right)\n",
    "numpy_result = np.linalg.solve(left, right)\n",
    "multiplication_check = np.dot(left, solution_cramer)\n",
    "inverse_matrix_check = np.dot(np.linalg.inv(left), right)\n",
    "\n",
    "print(f\"Result of Cramer's method: {cramer_result}\") \n",
    "print(f\"Result of using numpy.linalg.solve(): {numpy_result}\")\n",
    "print(f\"Check results: {np.allclose(numpy_result, cramer_result)}\\n\")\n",
    "\n",
    "print(f\"Check using matrix multiplication: {np.allclose(right, multiplication_check)}\")\n",
    "print(f\"Check using inverse matrix: {np.allclose(inverse_matrix_check, cramer_result)}\")"
   ]
  },
  {
   "cell_type": "markdown",
   "id": "1b1d5f61",
   "metadata": {},
   "source": [
    "### Task 3\n",
    "#### Evaluating matrix expression\n",
    "$2(A - B)(A^2 + B)$,\n",
    "\n",
    "where \n",
    "$\n",
    "A =\n",
    "\\begin{pmatrix}\n",
    "5 & 1 & 7 \\\\\n",
    "-10 & -2 & 1 \\\\\n",
    "0 & 1 & 2\n",
    "\\end{pmatrix},\n",
    "B = \n",
    "\\begin{pmatrix}\n",
    "2 & 4 & 1 \\\\\n",
    "3 & 1 & 0 \\\\\n",
    "7 & 2 & 1\n",
    "\\end{pmatrix}\n",
    "$\n",
    "\n",
    "#### using:\n",
    "* universal functions of the NumPy library\n",
    "* iterative constructions (cycles, lists inclusions etc.)"
   ]
  },
  {
   "cell_type": "code",
   "execution_count": 64,
   "id": "d31b1e16",
   "metadata": {},
   "outputs": [],
   "source": [
    "A = [[5, 1, 7],\n",
    "     [-10, -2, 1],\n",
    "     [0, 1, 2]]\n",
    "\n",
    "B = [[2, 4, 1],\n",
    "     [3, 1, 0],\n",
    "     [7, 2, 1]]\n",
    "\n",
    "A_np = np.array(A)\n",
    "B_np = np.array(B)\n",
    "\n",
    "\n",
    "def multiplication(A, B):\n",
    "    a_rows, a_columns, b_rows, b_columns = len(A), len(A[0]), len(B), len(B[0])\n",
    "    result = []\n",
    "    if a_columns != b_rows:\n",
    "        print(\"Multiplication cannot be done because of different dimensions.\")\n",
    "        return result\n",
    "    \n",
    "    for i in range(a_rows):\n",
    "        new_row = []\n",
    "        for j in range(b_columns):\n",
    "            element_sum = 0\n",
    "            for k in range(a_columns):\n",
    "                element_sum += A[i][k] * B[k][j]\n",
    "            new_row.append(element_sum)\n",
    "        result.append(new_row)\n",
    "    \n",
    "    return result\n",
    "    \n",
    "def addition(A, B):\n",
    "    a_rows, a_columns, b_rows, b_columns = len(A), len(A[0]), len(B), len(B[0])\n",
    "    result = []\n",
    "    if a_rows != b_rows or a_columns != b_columns:\n",
    "        print(\"Addition cannot be done because of different dimensions.\")\n",
    "        return result\n",
    "    \n",
    "    for i in range(a_rows):\n",
    "        new_row = []\n",
    "        for j in range(a_columns):\n",
    "            new_row.append(A[i][j] + B[i][j])\n",
    "        result.append(new_row)\n",
    "    \n",
    "    return result\n",
    "\n",
    "def scalar_multiplication(a, A):\n",
    "    result = []\n",
    "    for i in range(len(A)):\n",
    "        new_row = []\n",
    "        for j in range(len(A[0])):\n",
    "            new_row.append(A[i][j] * a)\n",
    "        result.append(new_row)\n",
    "        \n",
    "    return result"
   ]
  },
  {
   "cell_type": "code",
   "execution_count": 72,
   "id": "87a34979",
   "metadata": {},
   "outputs": [
    {
     "name": "stdout",
     "output_type": "stream",
     "text": [
      "11.5 µs ± 464 ns per loop (mean ± std. dev. of 10 runs, 100 loops each)\n"
     ]
    }
   ],
   "source": [
    "%%timeit -n 100 -r 10\n",
    "numpy_result = 2 * (A_np - B_np) @ (A_np @ A_np + B_np)"
   ]
  },
  {
   "cell_type": "code",
   "execution_count": 69,
   "id": "1f0bd671",
   "metadata": {},
   "outputs": [
    {
     "name": "stdout",
     "output_type": "stream",
     "text": [
      "117 µs ± 12.8 µs per loop (mean ± std. dev. of 10 runs, 100 loops each)\n"
     ]
    }
   ],
   "source": [
    "%%timeit -n 100 -r 10\n",
    "iterative_result = scalar_multiplication(2, multiplication(addition(A, scalar_multiplication(-1, B)), addition(multiplication(A, A), B)))"
   ]
  },
  {
   "cell_type": "code",
   "execution_count": 67,
   "id": "0d057ab8",
   "metadata": {},
   "outputs": [
    {
     "data": {
      "text/plain": [
       "True"
      ]
     },
     "execution_count": 67,
     "metadata": {},
     "output_type": "execute_result"
    }
   ],
   "source": [
    "numpy_result = 2 * (A_ - B_) @ (A_ @ A_ + B_)\n",
    "iterative_result = scalar_multiplication(2, multiplication(addition(A, scalar_multiplication(-1, B)), addition(multiplication(A, A), B)))\n",
    "np.allclose(numpy_result, iterative_result)"
   ]
  },
  {
   "cell_type": "code",
   "execution_count": null,
   "id": "7f5d8fbe",
   "metadata": {},
   "outputs": [],
   "source": []
  }
 ],
 "metadata": {
  "kernelspec": {
   "display_name": "Python 3 (ipykernel)",
   "language": "python",
   "name": "python3"
  },
  "language_info": {
   "codemirror_mode": {
    "name": "ipython",
    "version": 3
   },
   "file_extension": ".py",
   "mimetype": "text/x-python",
   "name": "python",
   "nbconvert_exporter": "python",
   "pygments_lexer": "ipython3",
   "version": "3.9.13"
  }
 },
 "nbformat": 4,
 "nbformat_minor": 5
}
